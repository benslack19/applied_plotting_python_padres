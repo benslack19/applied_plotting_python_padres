{
 "cells": [
  {
   "cell_type": "markdown",
   "metadata": {},
   "source": [
    "**What is the correlation of Padres payroll and winning percentage?**\n",
    "\n",
    "A study looking at whether increases in Padres spending towards player contracts correlates with team success."
   ]
  },
  {
   "cell_type": "markdown",
   "metadata": {},
   "source": [
    "## Import tables of interest"
   ]
  },
  {
   "cell_type": "code",
   "execution_count": 10,
   "metadata": {
    "collapsed": true
   },
   "outputs": [],
   "source": [
    "import pandas as pd"
   ]
  },
  {
   "cell_type": "code",
   "execution_count": 11,
   "metadata": {
    "collapsed": true
   },
   "outputs": [],
   "source": [
    "# Import HTML table of winning percentage\n",
    "url = 'https://en.wikipedia.org/wiki/List_of_San_Diego_Padres_seasons'\n",
    "data = pd.read_html(url, header=0)\n",
    "df_winPerc = data[1].head(49) # remove the footers too"
   ]
  },
  {
   "cell_type": "code",
   "execution_count": 12,
   "metadata": {
    "collapsed": true
   },
   "outputs": [],
   "source": [
    "# Import table for salary\n",
    "url = 'http://www.baseballprospectus.com/compensation/?cyear=2017&team=SDN&pos='\n",
    "data = pd.read_html(url, header=0)\n",
    "df = data[1].iloc[36:,:]\n",
    "df.columns = df.iloc[0]\n",
    "# Some cleaning\n",
    "df_Payroll = df.drop(36, axis=0).drop(['PR Sort', 'Diff', 'AvgPR Sort', 'Diff Sort'], axis=1).iloc[:, :3]"
   ]
  },
  {
   "cell_type": "code",
   "execution_count": 13,
   "metadata": {
    "collapsed": true
   },
   "outputs": [],
   "source": [
    "# Merge both dataframes into a single dataframe\n",
    "df_all = pd.merge(df_winPerc, df_Payroll, how='inner', left_on='Season', right_on='Year')"
   ]
  },
  {
   "cell_type": "code",
   "execution_count": 14,
   "metadata": {},
   "outputs": [],
   "source": [
    "# Convert currencies to float\n",
    "df_all['Padres payroll'] = df_all['Padres payroll'].str.replace('$', '').str.replace(',','').astype(float)\n",
    "df_all['Avg payroll'] = df_all['Avg payroll'].str.replace('$', '').str.replace(',','').astype(float)\n",
    "\n",
    "# Make a column showing payroll relative to league average\n",
    "df_all['Padres Payroll % of MLB average'] = df_all['Padres payroll']/df_all['Avg payroll']\n",
    "\n",
    "# Start at 2000s to since no data is available for 1998, 1999\n",
    "df_all = df_all.iloc[2:,:]\n",
    "\n",
    "# Convert season to datetime format\n",
    "df_all['Season'] = pd.to_datetime(df_all['Season'])"
   ]
  },
  {
   "cell_type": "code",
   "execution_count": 15,
   "metadata": {
    "collapsed": true
   },
   "outputs": [],
   "source": [
    "# Set the index to the season\n",
    "df_all.set_index('Season', inplace=True)"
   ]
  },
  {
   "cell_type": "code",
   "execution_count": 17,
   "metadata": {},
   "outputs": [
    {
     "data": {
      "text/html": [
       "<div>\n",
       "<style>\n",
       "    .dataframe thead tr:only-child th {\n",
       "        text-align: right;\n",
       "    }\n",
       "\n",
       "    .dataframe thead th {\n",
       "        text-align: left;\n",
       "    }\n",
       "\n",
       "    .dataframe tbody tr th {\n",
       "        vertical-align: top;\n",
       "    }\n",
       "</style>\n",
       "<table border=\"1\" class=\"dataframe\">\n",
       "  <thead>\n",
       "    <tr style=\"text-align: right;\">\n",
       "      <th></th>\n",
       "      <th>Level</th>\n",
       "      <th>League</th>\n",
       "      <th>Division</th>\n",
       "      <th>Finish</th>\n",
       "      <th>Wins</th>\n",
       "      <th>Losses</th>\n",
       "      <th>Win%</th>\n",
       "      <th>GB</th>\n",
       "      <th>Postseason</th>\n",
       "      <th>Awards</th>\n",
       "      <th>Year</th>\n",
       "      <th>Padres payroll</th>\n",
       "      <th>Avg payroll</th>\n",
       "      <th>Padres Payroll % of MLB average</th>\n",
       "    </tr>\n",
       "    <tr>\n",
       "      <th>Season</th>\n",
       "      <th></th>\n",
       "      <th></th>\n",
       "      <th></th>\n",
       "      <th></th>\n",
       "      <th></th>\n",
       "      <th></th>\n",
       "      <th></th>\n",
       "      <th></th>\n",
       "      <th></th>\n",
       "      <th></th>\n",
       "      <th></th>\n",
       "      <th></th>\n",
       "      <th></th>\n",
       "      <th></th>\n",
       "    </tr>\n",
       "  </thead>\n",
       "  <tbody>\n",
       "    <tr>\n",
       "      <th>2000-01-01</th>\n",
       "      <td>MLB</td>\n",
       "      <td>NL</td>\n",
       "      <td>West</td>\n",
       "      <td>5th</td>\n",
       "      <td>76.0</td>\n",
       "      <td>86.0</td>\n",
       "      <td>0.469</td>\n",
       "      <td>21</td>\n",
       "      <td>NaN</td>\n",
       "      <td>NaN</td>\n",
       "      <td>2000</td>\n",
       "      <td>53816000.0</td>\n",
       "      <td>57491092.0</td>\n",
       "      <td>0.936075</td>\n",
       "    </tr>\n",
       "    <tr>\n",
       "      <th>2001-01-01</th>\n",
       "      <td>MLB</td>\n",
       "      <td>NL</td>\n",
       "      <td>West</td>\n",
       "      <td>4th</td>\n",
       "      <td>79.0</td>\n",
       "      <td>83.0</td>\n",
       "      <td>0.488</td>\n",
       "      <td>13</td>\n",
       "      <td>NaN</td>\n",
       "      <td>NaN</td>\n",
       "      <td>2001</td>\n",
       "      <td>37438000.0</td>\n",
       "      <td>67120750.0</td>\n",
       "      <td>0.557771</td>\n",
       "    </tr>\n",
       "    <tr>\n",
       "      <th>2002-01-01</th>\n",
       "      <td>MLB</td>\n",
       "      <td>NL</td>\n",
       "      <td>West</td>\n",
       "      <td>5th</td>\n",
       "      <td>66.0</td>\n",
       "      <td>96.0</td>\n",
       "      <td>0.407</td>\n",
       "      <td>32</td>\n",
       "      <td>NaN</td>\n",
       "      <td>NaN</td>\n",
       "      <td>2002</td>\n",
       "      <td>40678000.0</td>\n",
       "      <td>69204705.0</td>\n",
       "      <td>0.587792</td>\n",
       "    </tr>\n",
       "    <tr>\n",
       "      <th>2003-01-01</th>\n",
       "      <td>MLB</td>\n",
       "      <td>NL</td>\n",
       "      <td>West</td>\n",
       "      <td>5th</td>\n",
       "      <td>64.0</td>\n",
       "      <td>98.0</td>\n",
       "      <td>0.395</td>\n",
       "      <td>36½</td>\n",
       "      <td>NaN</td>\n",
       "      <td>NaN</td>\n",
       "      <td>2003</td>\n",
       "      <td>43565000.0</td>\n",
       "      <td>72156639.0</td>\n",
       "      <td>0.603756</td>\n",
       "    </tr>\n",
       "    <tr>\n",
       "      <th>2004-01-01</th>\n",
       "      <td>MLB</td>\n",
       "      <td>NL</td>\n",
       "      <td>West</td>\n",
       "      <td>3rd</td>\n",
       "      <td>87.0</td>\n",
       "      <td>75.0</td>\n",
       "      <td>0.537</td>\n",
       "      <td>6</td>\n",
       "      <td>NaN</td>\n",
       "      <td>NaN</td>\n",
       "      <td>2004</td>\n",
       "      <td>59172333.0</td>\n",
       "      <td>71426357.0</td>\n",
       "      <td>0.828438</td>\n",
       "    </tr>\n",
       "  </tbody>\n",
       "</table>\n",
       "</div>"
      ],
      "text/plain": [
       "           Level League Division Finish  Wins  Losses   Win%   GB Postseason  \\\n",
       "Season                                                                         \n",
       "2000-01-01   MLB     NL     West    5th  76.0    86.0  0.469   21        NaN   \n",
       "2001-01-01   MLB     NL     West    4th  79.0    83.0  0.488   13        NaN   \n",
       "2002-01-01   MLB     NL     West    5th  66.0    96.0  0.407   32        NaN   \n",
       "2003-01-01   MLB     NL     West    5th  64.0    98.0  0.395  36½        NaN   \n",
       "2004-01-01   MLB     NL     West    3rd  87.0    75.0  0.537    6        NaN   \n",
       "\n",
       "           Awards  Year  Padres payroll  Avg payroll  \\\n",
       "Season                                                 \n",
       "2000-01-01    NaN  2000      53816000.0   57491092.0   \n",
       "2001-01-01    NaN  2001      37438000.0   67120750.0   \n",
       "2002-01-01    NaN  2002      40678000.0   69204705.0   \n",
       "2003-01-01    NaN  2003      43565000.0   72156639.0   \n",
       "2004-01-01    NaN  2004      59172333.0   71426357.0   \n",
       "\n",
       "            Padres Payroll % of MLB average  \n",
       "Season                                       \n",
       "2000-01-01                         0.936075  \n",
       "2001-01-01                         0.557771  \n",
       "2002-01-01                         0.587792  \n",
       "2003-01-01                         0.603756  \n",
       "2004-01-01                         0.828438  "
      ]
     },
     "execution_count": 17,
     "metadata": {},
     "output_type": "execute_result"
    }
   ],
   "source": [
    "df_all.head()"
   ]
  },
  {
   "cell_type": "markdown",
   "metadata": {},
   "source": [
    "## Visualization"
   ]
  },
  {
   "cell_type": "code",
   "execution_count": 18,
   "metadata": {
    "collapsed": true
   },
   "outputs": [],
   "source": [
    "import matplotlib.pyplot as plt\n",
    "import seaborn as sns\n",
    "import numpy as np\n",
    "%matplotlib inline"
   ]
  },
  {
   "cell_type": "code",
   "execution_count": 19,
   "metadata": {},
   "outputs": [
    {
     "data": {
      "image/png": "[encoded data removed]",
      "text/plain": [
       "<matplotlib.figure.Figure at 0x2027f33fc50>"
      ]
     },
     "metadata": {},
     "output_type": "display_data"
    }
   ],
   "source": [
    "# Use the 'seaborn-colorblind' style\n",
    "sns.set_style('white')\n",
    "plt.style.use('seaborn-colorblind')\n",
    "\n",
    "fig, ax = plt.subplots()\n",
    "ax.plot(df_all['Padres Payroll % of MLB average'], color='blue')\n",
    "ax2 =ax.twinx()\n",
    "ax2.plot(df_all['Win%'], color='orange')\n",
    "\n",
    "# Change left y-axis to percentage and make blue\n",
    "vals = ax.get_yticks();\n",
    "ax.set_yticklabels(['{:3.0f}%'.format(x*100) for x in vals], color='blue', size=13);\n",
    "ax.set_ylabel('% Padres Payroll of league average', size=14)\n",
    "ax.yaxis.label.set_color('blue')\n",
    "\n",
    "# Change right y-axis to percentage and make orange\n",
    "vals = ax2.get_yticks();\n",
    "ax2.set_yticklabels(['{:3.0f}%'.format(x*100) for x in vals], color='orange', size=12);\n",
    "ax2.set_ylabel('Winning percentage', size=14)\n",
    "ax2.yaxis.label.set_color('orange')\n",
    "\n",
    "# Edit title and xlabel\n",
    "ax.set_xlabel('Season', size=14)\n",
    "ax.set_title('Comparison of Padres Payroll and Winning Percentage in the 2000s', size=14)\n",
    "\n",
    "# Change years to show all and rotate\n",
    "ax.set_xticks(df_all.index);\n",
    "ax.set_xticklabels(df_all.index.year, size=12, rotation=90);\n",
    "\n",
    "# Add correlation coefficient\n",
    "cc = df_all[['Win%', 'Padres Payroll % of MLB average']].corr(method='pearson', min_periods=1).iloc[0,1];\n",
    "ax.text(ax.get_xticks()[-1], ax.get_yticks()[-2], 'correlation='+str(\"%.1f\" % (100*cc))+'%', ha='right');\n",
    "\n",
    "# save figure\n",
    "#plt.savefig('pctPadresPayroll_pctWinning.png', dpi=400)"
   ]
  }
 ],
 "metadata": {
  "kernelspec": {
   "display_name": "Python 3",
   "language": "python",
   "name": "python3"
  },
  "language_info": {
   "codemirror_mode": {
    "name": "ipython",
    "version": 3
   },
   "file_extension": ".py",
   "mimetype": "text/x-python",
   "name": "python",
   "nbconvert_exporter": "python",
   "pygments_lexer": "ipython3",
   "version": "3.6.1"
  },
  "toc": {
   "nav_menu": {},
   "number_sections": true,
   "sideBar": true,
   "skip_h1_title": false,
   "toc_cell": false,
   "toc_position": {},
   "toc_section_display": "block",
   "toc_window_display": true
  },
  "varInspector": {
   "cols": {
    "lenName": 16,
    "lenType": 16,
    "lenVar": 40
   },
   "kernels_config": {
    "python": {
     "delete_cmd_postfix": "",
     "delete_cmd_prefix": "del ",
     "library": "var_list.py",
     "varRefreshCmd": "print(var_dic_list())"
    },
    "r": {
     "delete_cmd_postfix": ") ",
     "delete_cmd_prefix": "rm(",
     "library": "var_list.r",
     "varRefreshCmd": "cat(var_dic_list()) "
    }
   },
   "types_to_exclude": [
    "module",
    "function",
    "builtin_function_or_method",
    "instance",
    "_Feature"
   ],
   "window_display": false
  }
 },
 "nbformat": 4,
 "nbformat_minor": 2
}
